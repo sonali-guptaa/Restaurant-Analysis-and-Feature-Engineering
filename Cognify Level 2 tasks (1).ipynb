{
 "cells": [
  {
   "cell_type": "markdown",
   "id": "aba123fb-61f2-460b-a2b8-c3ad23d59a20",
   "metadata": {},
   "source": [
    "# Level 2 Task 1: Table Booking and Online Delivery"
   ]
  },
  {
   "cell_type": "code",
   "execution_count": 1,
   "id": "1043c099-bd04-4b4f-839d-19839026375f",
   "metadata": {},
   "outputs": [],
   "source": [
    "import pandas as pd\n",
    "import numpy as np\n",
    "import matplotlib.pyplot as plt\n",
    "import seaborn as sns"
   ]
  },
  {
   "cell_type": "code",
   "execution_count": 2,
   "id": "de786f7a-2762-48b8-ba39-fea2a5426681",
   "metadata": {},
   "outputs": [],
   "source": [
    "# reading a csv file\n",
    "df = pd.read_csv(\"C:/Users/Rohit Gupta/Desktop/Cognify dataset.csv\")"
   ]
  },
  {
   "cell_type": "code",
   "execution_count": 3,
   "id": "5a933aa5-8327-467f-aa00-5b1ec242af60",
   "metadata": {},
   "outputs": [
    {
     "name": "stdout",
     "output_type": "stream",
     "text": [
      "Restaurant ID           0\n",
      "Restaurant Name         0\n",
      "Country Code            0\n",
      "City                    0\n",
      "Address                 0\n",
      "Locality                0\n",
      "Locality Verbose        0\n",
      "Longitude               0\n",
      "Latitude                0\n",
      "Cuisines                9\n",
      "Average Cost for two    0\n",
      "Currency                0\n",
      "Has Table booking       0\n",
      "Has Online delivery     0\n",
      "Is delivering now       0\n",
      "Switch to order menu    0\n",
      "Price range             0\n",
      "Aggregate rating        0\n",
      "Rating color            0\n",
      "Rating text             0\n",
      "Votes                   0\n",
      "dtype: int64\n"
     ]
    }
   ],
   "source": [
    "print(df.isnull().sum())"
   ]
  },
  {
   "cell_type": "code",
   "execution_count": 4,
   "id": "1b1884c9-1214-4c3d-9f81-1bc379006635",
   "metadata": {},
   "outputs": [],
   "source": [
    "df['Cuisines'].fillna(\"not given\", inplace=True)"
   ]
  },
  {
   "cell_type": "code",
   "execution_count": 5,
   "id": "dcfb19bd-2773-4c30-be57-0d5a5c52991e",
   "metadata": {},
   "outputs": [
    {
     "name": "stdout",
     "output_type": "stream",
     "text": [
      "Restaurant ID           0\n",
      "Restaurant Name         0\n",
      "Country Code            0\n",
      "City                    0\n",
      "Address                 0\n",
      "Locality                0\n",
      "Locality Verbose        0\n",
      "Longitude               0\n",
      "Latitude                0\n",
      "Cuisines                0\n",
      "Average Cost for two    0\n",
      "Currency                0\n",
      "Has Table booking       0\n",
      "Has Online delivery     0\n",
      "Is delivering now       0\n",
      "Switch to order menu    0\n",
      "Price range             0\n",
      "Aggregate rating        0\n",
      "Rating color            0\n",
      "Rating text             0\n",
      "Votes                   0\n",
      "dtype: int64\n"
     ]
    }
   ],
   "source": [
    "print(df.isnull().sum())"
   ]
  },
  {
   "cell_type": "markdown",
   "id": "3e4d3c38-4f7e-4126-93cb-183306f19fd8",
   "metadata": {},
   "source": [
    "### Determine the percentage of restaurants that offer table booking and online delivery."
   ]
  },
  {
   "cell_type": "code",
   "execution_count": 6,
   "id": "3c652b8c-3f78-4542-a7a4-12530c939b73",
   "metadata": {},
   "outputs": [
    {
     "name": "stdout",
     "output_type": "stream",
     "text": [
      "Percentage of restaurants that offer table booking:\n",
      "Has Table booking\n",
      "No     87.875615\n",
      "Yes    12.124385\n",
      "Name: count, dtype: float64\n",
      "\n",
      "Percentage of restaurants that offer online delivery:\n",
      "Has Online delivery\n",
      "No     74.337766\n",
      "Yes    25.662234\n",
      "Name: count, dtype: float64\n"
     ]
    }
   ],
   "source": [
    "# Counting the number of restaurants that offer table booking\n",
    "table_booking_count = df['Has Table booking'].value_counts()\n",
    "\n",
    "# Counting the number of restaurants that offer online delivery\n",
    "online_delivery_count = df['Has Online delivery'].value_counts()\n",
    "\n",
    "# Calculating the percentage of restaurants that offer table booking\n",
    "table_booking_percentage = (table_booking_count / df.shape[0]) * 100\n",
    "\n",
    "# Calculate the percentage of restaurants that offer online delivery\n",
    "online_delivery_percentage = (online_delivery_count / df.shape[0]) * 100\n",
    "\n",
    "print(\"Percentage of restaurants that offer table booking:\")\n",
    "print(table_booking_percentage)\n",
    "print(\"\\nPercentage of restaurants that offer online delivery:\")\n",
    "print(online_delivery_percentage)"
   ]
  },
  {
   "cell_type": "markdown",
   "id": "a4a13bd7-f880-46bd-8de9-be79350c9443",
   "metadata": {},
   "source": []
  },
  {
   "cell_type": "markdown",
   "id": "bd76a710-4fd6-4566-90c1-4653d7a34526",
   "metadata": {},
   "source": [
    "### Compare the average ratings of restaurants with table booking and those without"
   ]
  },
  {
   "cell_type": "code",
   "execution_count": 7,
   "id": "c2fcca09-ba3c-4d78-b45d-29ac4383ea56",
   "metadata": {},
   "outputs": [
    {
     "name": "stdout",
     "output_type": "stream",
     "text": [
      "Average rating for restaurants with table booking: 3.4419689119170984\n",
      "Average rating for restaurants without table booking: 2.559358989634219\n"
     ]
    }
   ],
   "source": [
    "# Calculate average ratings for restaurants with table booking and without\n",
    "avg_rating_with_table_booking = df[df['Has Table booking'] == 'Yes']['Aggregate rating'].mean()\n",
    "avg_rating_without_table_booking = df[df['Has Table booking'] == 'No']['Aggregate rating'].mean()\n",
    "\n",
    "print(\"Average rating for restaurants with table booking:\", avg_rating_with_table_booking)\n",
    "print(\"Average rating for restaurants without table booking:\", avg_rating_without_table_booking)"
   ]
  },
  {
   "cell_type": "markdown",
   "id": "6e28cedc-8d97-4954-bf48-cc64f377134e",
   "metadata": {},
   "source": []
  },
  {
   "cell_type": "markdown",
   "id": "ea76e7b6-ba39-4902-8ad8-e9c4be5bb746",
   "metadata": {},
   "source": [
    "### Analyze the availability of online delivery among restaurants with different price ranges"
   ]
  },
  {
   "cell_type": "code",
   "execution_count": 8,
   "id": "cdbbd9ef-aa3e-4372-80e0-a24fbfd14ffe",
   "metadata": {},
   "outputs": [
    {
     "name": "stdout",
     "output_type": "stream",
     "text": [
      "Percentage of restaurants offering online delivery by price range:\n",
      "Price range\n",
      "1    15.774077\n",
      "2    41.310633\n",
      "3    29.190341\n",
      "4     9.044369\n",
      "Name: proportion, dtype: float64\n"
     ]
    }
   ],
   "source": [
    "# Group the data by price range and calculate the percentage of restaurants offering online delivery in each group\n",
    "online_delivery_percentage_by_price_range = df.groupby('Price range')['Has Online delivery'].value_counts(normalize=True).loc[:, 'Yes'] * 100\n",
    "\n",
    "print(\"Percentage of restaurants offering online delivery by price range:\")\n",
    "print(online_delivery_percentage_by_price_range)"
   ]
  },
  {
   "cell_type": "markdown",
   "id": "24092898-78be-4eca-8d71-27532cc2419d",
   "metadata": {},
   "source": []
  },
  {
   "cell_type": "markdown",
   "id": "57205cc7-ea33-418c-aca0-88be3a6e88c1",
   "metadata": {},
   "source": [
    "# Level 2 Task 2: Price Range Analysis"
   ]
  },
  {
   "cell_type": "markdown",
   "id": "9ece4aa6-b3a4-4b15-965b-dbe5b1c1bad7",
   "metadata": {},
   "source": [
    "### Determine the most common price range among all the restaurants"
   ]
  },
  {
   "cell_type": "code",
   "execution_count": 9,
   "id": "aa55ea31-7eb0-4d71-b074-32b9203e6eb5",
   "metadata": {},
   "outputs": [
    {
     "name": "stdout",
     "output_type": "stream",
     "text": [
      "The most common price range is: 586\n"
     ]
    }
   ],
   "source": [
    "price_range_counts = df['Price range'].value_counts()\n",
    "\n",
    "# Finding the most frequent price range using mode\n",
    "most_common_range = price_range_counts.mode()[0]\n",
    "print(\"The most common price range is:\", most_common_range)"
   ]
  },
  {
   "cell_type": "markdown",
   "id": "e782d569-4e45-4d86-a2ed-62deba5469d8",
   "metadata": {},
   "source": [
    "### Calculate the average rating for each price range"
   ]
  },
  {
   "cell_type": "code",
   "execution_count": 10,
   "id": "192f50f4-9049-48ff-9ed8-1a65c6491718",
   "metadata": {},
   "outputs": [
    {
     "name": "stdout",
     "output_type": "stream",
     "text": [
      "Average rating for each price range:\n",
      "Price range\n",
      "1    1.999887\n",
      "2    2.941054\n",
      "3    3.683381\n",
      "4    3.817918\n",
      "Name: Aggregate rating, dtype: float64\n"
     ]
    }
   ],
   "source": [
    "# Calculating the average rating for each price range\n",
    "avg_rating_by_price_range = df.groupby('Price range')['Aggregate rating'].mean()\n",
    "\n",
    "print(\"Average rating for each price range:\")\n",
    "print(avg_rating_by_price_range)\n"
   ]
  },
  {
   "cell_type": "markdown",
   "id": "9014a2bb-be28-4800-9d4a-9cdc79b54be4",
   "metadata": {},
   "source": [
    "### Identify the color that represents the highest average rating among different price ranges"
   ]
  },
  {
   "cell_type": "code",
   "execution_count": 11,
   "id": "516582f1-d5e1-4b30-868f-980fc4b9c369",
   "metadata": {},
   "outputs": [
    {
     "name": "stdout",
     "output_type": "stream",
     "text": [
      "Price Range with Highest Average Rating: 4\n",
      "Average Rating: 3.8179180887372017\n",
      "Potential Color Representation: (0.705673158, 0.01555616, 0.150232812, 1.0)\n"
     ]
    },
    {
     "name": "stderr",
     "output_type": "stream",
     "text": [
      "C:\\Users\\Rohit Gupta\\AppData\\Local\\Temp\\ipykernel_4408\\3276863842.py:9: MatplotlibDeprecationWarning: The get_cmap function was deprecated in Matplotlib 3.7 and will be removed two minor releases later. Use ``matplotlib.colormaps[name]`` or ``matplotlib.colormaps.get_cmap(obj)`` instead.\n",
      "  colormap = cm.get_cmap('coolwarm')\n"
     ]
    }
   ],
   "source": [
    "import matplotlib.cm as cm\n",
    "\n",
    "avg_rating_per_price_range = df.groupby('Price range')['Aggregate rating'].mean()\n",
    "\n",
    "highest_rated_range = avg_rating_per_price_range.idxmax()\n",
    "highest_rating = avg_rating_per_price_range.max()\n",
    "\n",
    "# Defining a colormap\n",
    "colormap = cm.get_cmap('coolwarm')\n",
    "\n",
    "# Normalizing rating for colormap\n",
    "normalized_rating = (highest_rating - avg_rating_per_price_range.min()) / (avg_rating_per_price_range.max() - avg_rating_per_price_range.min())\n",
    "\n",
    "# Getting color based on normalized rating\n",
    "color = colormap(normalized_rating)\n",
    "\n",
    "print(\"Price Range with Highest Average Rating:\", highest_rated_range)\n",
    "print(\"Average Rating:\", highest_rating)\n",
    "print(\"Potential Color Representation:\", color)"
   ]
  },
  {
   "cell_type": "markdown",
   "id": "ee0d88f2-f5dc-46ef-a352-a770d0562e6a",
   "metadata": {},
   "source": []
  },
  {
   "cell_type": "markdown",
   "id": "ab8f8215-3695-4946-a2e2-a564d42ae071",
   "metadata": {},
   "source": [
    "# Level 2 Task 3"
   ]
  },
  {
   "cell_type": "markdown",
   "id": "8724d733-0f8c-4af9-bbcb-671ef68b4ba3",
   "metadata": {},
   "source": [
    "### Extract additional features from the existing columns, such as the length of the restaurant name or address"
   ]
  },
  {
   "cell_type": "code",
   "execution_count": 12,
   "id": "7c209849-6307-4769-aa4e-943d151f1e5f",
   "metadata": {},
   "outputs": [
    {
     "name": "stdout",
     "output_type": "stream",
     "text": [
      "   Restaurant ID         Restaurant Name  Country Code              City  \\\n",
      "0        6317637        Le Petit Souffle           162       Makati City   \n",
      "1        6304287        Izakaya Kikufuji           162       Makati City   \n",
      "2        6300002  Heat - Edsa Shangri-La           162  Mandaluyong City   \n",
      "3        6318506                    Ooma           162  Mandaluyong City   \n",
      "4        6314302             Sambo Kojin           162  Mandaluyong City   \n",
      "\n",
      "                                             Address  \\\n",
      "0  Third Floor, Century City Mall, Kalayaan Avenu...   \n",
      "1  Little Tokyo, 2277 Chino Roces Avenue, Legaspi...   \n",
      "2  Edsa Shangri-La, 1 Garden Way, Ortigas, Mandal...   \n",
      "3  Third Floor, Mega Fashion Hall, SM Megamall, O...   \n",
      "4  Third Floor, Mega Atrium, SM Megamall, Ortigas...   \n",
      "\n",
      "                                     Locality  \\\n",
      "0   Century City Mall, Poblacion, Makati City   \n",
      "1  Little Tokyo, Legaspi Village, Makati City   \n",
      "2  Edsa Shangri-La, Ortigas, Mandaluyong City   \n",
      "3      SM Megamall, Ortigas, Mandaluyong City   \n",
      "4      SM Megamall, Ortigas, Mandaluyong City   \n",
      "\n",
      "                                    Locality Verbose   Longitude   Latitude  \\\n",
      "0  Century City Mall, Poblacion, Makati City, Mak...  121.027535  14.565443   \n",
      "1  Little Tokyo, Legaspi Village, Makati City, Ma...  121.014101  14.553708   \n",
      "2  Edsa Shangri-La, Ortigas, Mandaluyong City, Ma...  121.056831  14.581404   \n",
      "3  SM Megamall, Ortigas, Mandaluyong City, Mandal...  121.056475  14.585318   \n",
      "4  SM Megamall, Ortigas, Mandaluyong City, Mandal...  121.057508  14.584450   \n",
      "\n",
      "                           Cuisines  ...  Has Online delivery  \\\n",
      "0        French, Japanese, Desserts  ...                   No   \n",
      "1                          Japanese  ...                   No   \n",
      "2  Seafood, Asian, Filipino, Indian  ...                   No   \n",
      "3                   Japanese, Sushi  ...                   No   \n",
      "4                  Japanese, Korean  ...                   No   \n",
      "\n",
      "  Is delivering now Switch to order menu Price range Aggregate rating  \\\n",
      "0                No                   No           3              4.8   \n",
      "1                No                   No           3              4.5   \n",
      "2                No                   No           4              4.4   \n",
      "3                No                   No           4              4.9   \n",
      "4                No                   No           4              4.8   \n",
      "\n",
      "  Rating color  Rating text  Votes Restaurant Name Length Address Length  \n",
      "0   Dark Green    Excellent    314                     16             71  \n",
      "1   Dark Green    Excellent    591                     16             67  \n",
      "2        Green    Very Good    270                     22             56  \n",
      "3   Dark Green    Excellent    365                      4             70  \n",
      "4   Dark Green    Excellent    229                     11             64  \n",
      "\n",
      "[5 rows x 23 columns]\n"
     ]
    }
   ],
   "source": [
    "# Extracting additional features\n",
    "# Extracting name length\n",
    "df['Restaurant Name Length'] = df['Restaurant Name'].str.len()\n",
    "\n",
    "# Extracting address length\n",
    "df['Address Length'] = df['Address'].str.len()\n",
    "\n",
    "# Displaying first 5 rows\n",
    "print(df.head())"
   ]
  },
  {
   "cell_type": "markdown",
   "id": "d7129511-89a3-4177-97fb-17cd22a27f04",
   "metadata": {},
   "source": [
    "### Create new features like \"Has Table Booking\" or \"Has Online Delivery\" by encoding categorical variables"
   ]
  },
  {
   "cell_type": "code",
   "execution_count": 15,
   "id": "199e4237-3d20-432b-bf6e-8ecc4bc2e568",
   "metadata": {},
   "outputs": [
    {
     "name": "stdout",
     "output_type": "stream",
     "text": [
      "   Restaurant ID         Restaurant Name  Country Code              City  \\\n",
      "0        6317637        Le Petit Souffle           162       Makati City   \n",
      "1        6304287        Izakaya Kikufuji           162       Makati City   \n",
      "2        6300002  Heat - Edsa Shangri-La           162  Mandaluyong City   \n",
      "3        6318506                    Ooma           162  Mandaluyong City   \n",
      "4        6314302             Sambo Kojin           162  Mandaluyong City   \n",
      "\n",
      "                                             Address  \\\n",
      "0  Third Floor, Century City Mall, Kalayaan Avenu...   \n",
      "1  Little Tokyo, 2277 Chino Roces Avenue, Legaspi...   \n",
      "2  Edsa Shangri-La, 1 Garden Way, Ortigas, Mandal...   \n",
      "3  Third Floor, Mega Fashion Hall, SM Megamall, O...   \n",
      "4  Third Floor, Mega Atrium, SM Megamall, Ortigas...   \n",
      "\n",
      "                                     Locality  \\\n",
      "0   Century City Mall, Poblacion, Makati City   \n",
      "1  Little Tokyo, Legaspi Village, Makati City   \n",
      "2  Edsa Shangri-La, Ortigas, Mandaluyong City   \n",
      "3      SM Megamall, Ortigas, Mandaluyong City   \n",
      "4      SM Megamall, Ortigas, Mandaluyong City   \n",
      "\n",
      "                                    Locality Verbose   Longitude   Latitude  \\\n",
      "0  Century City Mall, Poblacion, Makati City, Mak...  121.027535  14.565443   \n",
      "1  Little Tokyo, Legaspi Village, Makati City, Ma...  121.014101  14.553708   \n",
      "2  Edsa Shangri-La, Ortigas, Mandaluyong City, Ma...  121.056831  14.581404   \n",
      "3  SM Megamall, Ortigas, Mandaluyong City, Mandal...  121.056475  14.585318   \n",
      "4  SM Megamall, Ortigas, Mandaluyong City, Mandal...  121.057508  14.584450   \n",
      "\n",
      "                           Cuisines  ...  Aggregate rating Rating color  \\\n",
      "0        French, Japanese, Desserts  ...               4.8   Dark Green   \n",
      "1                          Japanese  ...               4.5   Dark Green   \n",
      "2  Seafood, Asian, Filipino, Indian  ...               4.4        Green   \n",
      "3                   Japanese, Sushi  ...               4.9   Dark Green   \n",
      "4                  Japanese, Korean  ...               4.8   Dark Green   \n",
      "\n",
      "  Rating text Votes  Restaurant Name Length  Address Length  \\\n",
      "0   Excellent   314                      16              71   \n",
      "1   Excellent   591                      16              67   \n",
      "2   Very Good   270                      22              56   \n",
      "3   Excellent   365                       4              70   \n",
      "4   Excellent   229                      11              64   \n",
      "\n",
      "  Has Table booking_No Has Table booking_Yes  Has Online delivery_No  \\\n",
      "0                False                  True                    True   \n",
      "1                False                  True                    True   \n",
      "2                False                  True                    True   \n",
      "3                 True                 False                    True   \n",
      "4                False                  True                    True   \n",
      "\n",
      "   Has Online delivery_Yes  \n",
      "0                    False  \n",
      "1                    False  \n",
      "2                    False  \n",
      "3                    False  \n",
      "4                    False  \n",
      "\n",
      "[5 rows x 25 columns]\n"
     ]
    }
   ],
   "source": [
    "# Encoding categorical variables using get_dummies\n",
    "df_encoded = pd.get_dummies(df, columns=['Has Table booking', 'Has Online delivery'])\n",
    "\n",
    "print(df_encoded.head())"
   ]
  },
  {
   "cell_type": "code",
   "execution_count": null,
   "id": "c0bfb84d-b2d1-40d5-8afb-1186950c388c",
   "metadata": {},
   "outputs": [],
   "source": []
  },
  {
   "cell_type": "code",
   "execution_count": null,
   "id": "00af1337-53f4-4822-8aea-7d68b672ff5b",
   "metadata": {},
   "outputs": [],
   "source": []
  },
  {
   "cell_type": "code",
   "execution_count": null,
   "id": "ab644700-7147-4995-b453-fd70f84c152d",
   "metadata": {},
   "outputs": [],
   "source": []
  },
  {
   "cell_type": "code",
   "execution_count": null,
   "id": "5b6af133-6162-401f-af76-b194b9564910",
   "metadata": {},
   "outputs": [],
   "source": []
  },
  {
   "cell_type": "code",
   "execution_count": null,
   "id": "5006784f-e35c-4739-9e1d-c2063e26454d",
   "metadata": {},
   "outputs": [],
   "source": []
  },
  {
   "cell_type": "code",
   "execution_count": null,
   "id": "d97bc293-5ed5-4fc9-8ef5-771abb667d55",
   "metadata": {},
   "outputs": [],
   "source": []
  },
  {
   "cell_type": "code",
   "execution_count": null,
   "id": "846b2900-96db-4196-8628-47a770139d00",
   "metadata": {},
   "outputs": [],
   "source": []
  }
 ],
 "metadata": {
  "kernelspec": {
   "display_name": "Python 3 (ipykernel)",
   "language": "python",
   "name": "python3"
  },
  "language_info": {
   "codemirror_mode": {
    "name": "ipython",
    "version": 3
   },
   "file_extension": ".py",
   "mimetype": "text/x-python",
   "name": "python",
   "nbconvert_exporter": "python",
   "pygments_lexer": "ipython3",
   "version": "3.11.7"
  }
 },
 "nbformat": 4,
 "nbformat_minor": 5
}
